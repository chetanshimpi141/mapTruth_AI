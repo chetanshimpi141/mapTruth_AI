{
 "cells": [
  {
   "cell_type": "code",
   "execution_count": 1,
   "id": "38c0e7fd",
   "metadata": {},
   "outputs": [
    {
     "name": "stdout",
     "output_type": "stream",
     "text": [
      "Note: you may need to restart the kernel to use updated packages.\n",
      "The blue color of the sky is due to a phenomenon called **Rayleigh scattering**. Here's a breakdown:\n",
      "\n",
      "**1. Sunlight and its Spectrum:**\n",
      "   * Sunlight appears white, but it actually contains all colors of the rainbow (the visible spectrum). \n",
      "\n",
      "**2. Atmospheric Particles:**\n",
      "   * The Earth's atmosphere is filled with tiny particles like nitrogen and oxygen molecules.  \n",
      "\n",
      "**3. Scattering:**\n",
      "    * When sunlight enters the atmosphere, these particles scatter it in different directions. This scattering is most effective for **shorter wavelengths of light**, such as blue and violet.\n",
      "\n",
      "**4. Blue Dominance:**\n",
      "   * The scattered blue light reaches our eyes from all directions across the sky, making it appear blue.  Since violet light has a shorter wavelength, it gets scattered even more than blue. \n",
      "\n",
      "**5. Human Perception:**\n",
      "    * Our eyes are most sensitive to shades of blue and green. This means we perceive the sky as blue.\n",
      "\n",
      "**Why isn't the sky always blue?**\n",
      "\n",
      "* **Time of day:**  The sun is at different angles throughout the day, which influences how much sunlight scatters. At sunrise and sunset, sunlight travels through a greater thickness of atmosphere, causing more red and orange colors to dominate.\n",
      "* **Clouds:**  Clouds reflect all wavelengths of light equally, making them appear white or grey. \n",
      "\n",
      "Let me know if you'd like further explanation on any specific part of this! 😊 \n",
      "\n"
     ]
    }
   ],
   "source": [
    "%pip install -q langchain-ollama\n",
    "\n",
    "from langchain_ollama import OllamaLLM\n",
    "\n",
    "llm = OllamaLLM(model=\"gemma2:2b\", base_url=\"http://localhost:11434\")\n",
    "print(llm.invoke(\"Why is the sky blue?\"))\n"
   ]
  },
  {
   "cell_type": "code",
   "execution_count": null,
   "id": "bfeef1e8",
   "metadata": {},
   "outputs": [
    {
     "ename": "ModuleNotFoundError",
     "evalue": "No module named 'langchain_community'",
     "output_type": "error",
     "traceback": [
      "\u001b[0;31m---------------------------------------------------------------------------\u001b[0m",
      "\u001b[0;31mModuleNotFoundError\u001b[0m                       Traceback (most recent call last)",
      "Cell \u001b[0;32mIn[5], line 1\u001b[0m\n\u001b[0;32m----> 1\u001b[0m \u001b[38;5;28;01mfrom\u001b[39;00m\u001b[38;5;250m \u001b[39m\u001b[38;5;21;01mlangchain_community\u001b[39;00m\u001b[38;5;21;01m.\u001b[39;00m\u001b[38;5;21;01mllms\u001b[39;00m\u001b[38;5;250m \u001b[39m\u001b[38;5;28;01mimport\u001b[39;00m Ollama\n\u001b[1;32m      2\u001b[0m llm \u001b[38;5;241m=\u001b[39m Ollama(model\u001b[38;5;241m=\u001b[39m\u001b[38;5;124m\"\u001b[39m\u001b[38;5;124mgemma2:2b\u001b[39m\u001b[38;5;124m\"\u001b[39m, base_url\u001b[38;5;241m=\u001b[39m\u001b[38;5;124m\"\u001b[39m\u001b[38;5;124mhttp://localhost:11434\u001b[39m\u001b[38;5;124m\"\u001b[39m)  \u001b[38;5;66;03m# adjust base_url if needed\u001b[39;00m\n\u001b[1;32m      3\u001b[0m \u001b[38;5;28mprint\u001b[39m(llm\u001b[38;5;241m.\u001b[39minvoke(\u001b[38;5;124m\"\u001b[39m\u001b[38;5;124mWhy is the sky blue?\u001b[39m\u001b[38;5;124m\"\u001b[39m))\n",
      "\u001b[0;31mModuleNotFoundError\u001b[0m: No module named 'langchain_community'"
     ]
    }
   ],
   "source": [
    "from langchain_ollama import OllamaLLM\n",
    "\n",
    "llm = OllamaLLM(model=\"gemma2:2b\", base_url=\"http://localhost:11434\")\n",
    "print(llm.invoke(\"Why is the sky blue?\"))"
   ]
  }
 ],
 "metadata": {
  "kernelspec": {
   "display_name": "Python 3",
   "language": "python",
   "name": "python3"
  },
  "language_info": {
   "codemirror_mode": {
    "name": "ipython",
    "version": 3
   },
   "file_extension": ".py",
   "mimetype": "text/x-python",
   "name": "python",
   "nbconvert_exporter": "python",
   "pygments_lexer": "ipython3",
   "version": "3.13.5"
  }
 },
 "nbformat": 4,
 "nbformat_minor": 5
}
